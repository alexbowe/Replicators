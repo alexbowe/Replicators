{
 "cells": [
  {
   "cell_type": "code",
   "execution_count": 45,
   "metadata": {},
   "outputs": [
    {
     "name": "stdout",
     "output_type": "stream",
     "text": [
      "\n"
     ]
    }
   ],
   "source": [
    "import difflib\n",
    "\n",
    "def generate_diff(a, b):\n",
    "    diff = difflib.unified_diff(\n",
    "        a.splitlines(keepends=True),\n",
    "        b.splitlines(keepends=True),\n",
    "        lineterm='',\n",
    "        n=0,\n",
    "    )\n",
    "    return list(diff)  # Return the diff as a list of lines\n",
    "\n",
    "def apply_diff(a, diff):\n",
    "    # Create a line-by-line generator from the original string\n",
    "    a_lines = a.splitlines(keepends=True)\n",
    "    # Use difflib to apply the diff patch\n",
    "    patched_lines = difflib.restore(diff, 2)  # 2 for the second set of lines (new version)\n",
    "    return ''.join(patched_lines)\n",
    "\n",
    "s = \"\"\"\n",
    "Hello World\n",
    "How are you today?\n",
    "I'm fine thank you\n",
    "\n",
    "How are you?\n",
    "\"\"\"\n",
    "\n",
    "t = \"\"\"\n",
    "Hello Walter\n",
    "How are you today?\n",
    "I'm fine thank you\n",
    "\n",
    "How are you?\n",
    "\n",
    "\n",
    "\n",
    "I love you.\n",
    "\"\"\"\n",
    "\n",
    "diff = generate_diff(s, t)\n",
    "modified_string = apply_diff(s, diff)\n",
    "print(modified_string)\n"
   ]
  },
  {
   "cell_type": "code",
   "execution_count": null,
   "metadata": {},
   "outputs": [],
   "source": []
  },
  {
   "cell_type": "code",
   "execution_count": 12,
   "metadata": {},
   "outputs": [
    {
     "data": {
      "text/plain": [
       "<generator object unified_diff at 0x117658890>"
      ]
     },
     "execution_count": 12,
     "metadata": {},
     "output_type": "execute_result"
    }
   ],
   "source": []
  },
  {
   "cell_type": "code",
   "execution_count": 13,
   "metadata": {},
   "outputs": [
    {
     "data": {
      "text/plain": [
       "''"
      ]
     },
     "execution_count": 13,
     "metadata": {},
     "output_type": "execute_result"
    }
   ],
   "source": []
  },
  {
   "cell_type": "code",
   "execution_count": null,
   "metadata": {},
   "outputs": [],
   "source": []
  }
 ],
 "metadata": {
  "kernelspec": {
   "display_name": "Python 3",
   "language": "python",
   "name": "python3"
  },
  "language_info": {
   "codemirror_mode": {
    "name": "ipython",
    "version": 3
   },
   "file_extension": ".py",
   "mimetype": "text/x-python",
   "name": "python",
   "nbconvert_exporter": "python",
   "pygments_lexer": "ipython3",
   "version": "3.10.12"
  }
 },
 "nbformat": 4,
 "nbformat_minor": 2
}
